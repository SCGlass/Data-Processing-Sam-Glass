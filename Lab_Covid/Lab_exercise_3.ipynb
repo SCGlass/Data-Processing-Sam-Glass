{
 "cells": [
  {
   "cell_type": "markdown",
   "metadata": {},
   "source": [
    "# Exercise 3: KPI and exploration data analysis"
   ]
  },
  {
   "cell_type": "markdown",
   "metadata": {},
   "source": [
    "Ín this part iof the project I will come up with a few key performance indicators(KPI) within the data frames. I will see if i discover anything interesting from explorations.\n",
    "These are the KPI i will explore:\n",
    "- Which age group had the most total deaths? Was the group with the highest death rate have the highest infection rate?\n",
    "- Show how the cases differed in different regions\n",
    "- Which age group had the most vaccines and which types? "
   ]
  },
  {
   "cell_type": "code",
   "execution_count": 69,
   "metadata": {},
   "outputs": [],
   "source": [
    "# importing relative packages that i may use within my explorations\n",
    "import pandas as pd # used for creating dataframes\n",
    "import numpy as np # used for mathematical functions\n",
    "import plotly_express as px # I will use plotly express as i think it is great to show interactive graphs"
   ]
  },
  {
   "cell_type": "markdown",
   "metadata": {},
   "source": [
    "----\n",
    "### Which age group had the most total deaths? Was the group with highest death rate have the highest infection rate?"
   ]
  },
  {
   "cell_type": "code",
   "execution_count": 74,
   "metadata": {},
   "outputs": [
    {
     "name": "stdout",
     "output_type": "stream",
     "text": [
      "<class 'pandas.core.frame.DataFrame'>\n",
      "RangeIndex: 11 entries, 0 to 10\n",
      "Data columns (total 4 columns):\n",
      " #   Column                        Non-Null Count  Dtype \n",
      "---  ------                        --------------  ----- \n",
      " 0   Åldersgrupp                   11 non-null     object\n",
      " 1   Totalt_antal_fall             11 non-null     int64 \n",
      " 2   Totalt_antal_intensivvårdade  11 non-null     int64 \n",
      " 3   Totalt_antal_avlidna          11 non-null     int64 \n",
      "dtypes: int64(3), object(1)\n",
      "memory usage: 480.0+ bytes\n"
     ]
    }
   ],
   "source": [
    "# importing the first data frame that i will use\n",
    "df_age_groups = pd.read_excel(\"../Lab_Covid/Data/Folkhalsomyndigheten_Covid19.xlsx\",\"Totalt antal per åldersgrupp\")\n",
    "df_age_groups.info() # Finding some info about the dataframe, there is no Nan"
   ]
  },
  {
   "cell_type": "code",
   "execution_count": 75,
   "metadata": {},
   "outputs": [
    {
     "data": {
      "text/html": [
       "<div>\n",
       "<style scoped>\n",
       "    .dataframe tbody tr th:only-of-type {\n",
       "        vertical-align: middle;\n",
       "    }\n",
       "\n",
       "    .dataframe tbody tr th {\n",
       "        vertical-align: top;\n",
       "    }\n",
       "\n",
       "    .dataframe thead th {\n",
       "        text-align: right;\n",
       "    }\n",
       "</style>\n",
       "<table border=\"1\" class=\"dataframe\">\n",
       "  <thead>\n",
       "    <tr style=\"text-align: right;\">\n",
       "      <th></th>\n",
       "      <th>Åldersgrupp</th>\n",
       "      <th>Totalt_antal_fall</th>\n",
       "      <th>Totalt_antal_intensivvårdade</th>\n",
       "      <th>Totalt_antal_avlidna</th>\n",
       "    </tr>\n",
       "  </thead>\n",
       "  <tbody>\n",
       "    <tr>\n",
       "      <th>0</th>\n",
       "      <td>Ålder_0_9</td>\n",
       "      <td>138071</td>\n",
       "      <td>109</td>\n",
       "      <td>17</td>\n",
       "    </tr>\n",
       "    <tr>\n",
       "      <th>1</th>\n",
       "      <td>Ålder_10_19</td>\n",
       "      <td>355823</td>\n",
       "      <td>101</td>\n",
       "      <td>9</td>\n",
       "    </tr>\n",
       "    <tr>\n",
       "      <th>2</th>\n",
       "      <td>Ålder_20_29</td>\n",
       "      <td>418506</td>\n",
       "      <td>285</td>\n",
       "      <td>41</td>\n",
       "    </tr>\n",
       "    <tr>\n",
       "      <th>3</th>\n",
       "      <td>Ålder_30_39</td>\n",
       "      <td>493443</td>\n",
       "      <td>492</td>\n",
       "      <td>71</td>\n",
       "    </tr>\n",
       "    <tr>\n",
       "      <th>4</th>\n",
       "      <td>Ålder_40_49</td>\n",
       "      <td>474702</td>\n",
       "      <td>997</td>\n",
       "      <td>172</td>\n",
       "    </tr>\n",
       "    <tr>\n",
       "      <th>5</th>\n",
       "      <td>Ålder_50_59</td>\n",
       "      <td>378468</td>\n",
       "      <td>1932</td>\n",
       "      <td>523</td>\n",
       "    </tr>\n",
       "    <tr>\n",
       "      <th>6</th>\n",
       "      <td>Ålder_60_69</td>\n",
       "      <td>180079</td>\n",
       "      <td>2595</td>\n",
       "      <td>1422</td>\n",
       "    </tr>\n",
       "    <tr>\n",
       "      <th>7</th>\n",
       "      <td>Ålder_70_79</td>\n",
       "      <td>87096</td>\n",
       "      <td>2394</td>\n",
       "      <td>4654</td>\n",
       "    </tr>\n",
       "    <tr>\n",
       "      <th>8</th>\n",
       "      <td>Ålder_80_89</td>\n",
       "      <td>58170</td>\n",
       "      <td>612</td>\n",
       "      <td>8326</td>\n",
       "    </tr>\n",
       "    <tr>\n",
       "      <th>9</th>\n",
       "      <td>Ålder_90_plus</td>\n",
       "      <td>26677</td>\n",
       "      <td>21</td>\n",
       "      <td>5420</td>\n",
       "    </tr>\n",
       "    <tr>\n",
       "      <th>10</th>\n",
       "      <td>Uppgift saknas</td>\n",
       "      <td>545</td>\n",
       "      <td>6</td>\n",
       "      <td>4</td>\n",
       "    </tr>\n",
       "  </tbody>\n",
       "</table>\n",
       "</div>"
      ],
      "text/plain": [
       "       Åldersgrupp  Totalt_antal_fall  Totalt_antal_intensivvårdade  \\\n",
       "0        Ålder_0_9             138071                           109   \n",
       "1      Ålder_10_19             355823                           101   \n",
       "2      Ålder_20_29             418506                           285   \n",
       "3      Ålder_30_39             493443                           492   \n",
       "4      Ålder_40_49             474702                           997   \n",
       "5      Ålder_50_59             378468                          1932   \n",
       "6      Ålder_60_69             180079                          2595   \n",
       "7      Ålder_70_79              87096                          2394   \n",
       "8      Ålder_80_89              58170                           612   \n",
       "9    Ålder_90_plus              26677                            21   \n",
       "10  Uppgift saknas                545                             6   \n",
       "\n",
       "    Totalt_antal_avlidna  \n",
       "0                     17  \n",
       "1                      9  \n",
       "2                     41  \n",
       "3                     71  \n",
       "4                    172  \n",
       "5                    523  \n",
       "6                   1422  \n",
       "7                   4654  \n",
       "8                   8326  \n",
       "9                   5420  \n",
       "10                     4  "
      ]
     },
     "execution_count": 75,
     "metadata": {},
     "output_type": "execute_result"
    }
   ],
   "source": [
    "df_age_groups"
   ]
  }
 ],
 "metadata": {
  "kernelspec": {
   "display_name": "Python 3.9.13 ('Data-Processing-Sam-Glass-iQLzWfS1')",
   "language": "python",
   "name": "python3"
  },
  "language_info": {
   "codemirror_mode": {
    "name": "ipython",
    "version": 3
   },
   "file_extension": ".py",
   "mimetype": "text/x-python",
   "name": "python",
   "nbconvert_exporter": "python",
   "pygments_lexer": "ipython3",
   "version": "3.9.13"
  },
  "orig_nbformat": 4,
  "vscode": {
   "interpreter": {
    "hash": "9eced2507a1f02eb945263ae614e45c1197092ab70359c3cea269f9344d11fb5"
   }
  }
 },
 "nbformat": 4,
 "nbformat_minor": 2
}
